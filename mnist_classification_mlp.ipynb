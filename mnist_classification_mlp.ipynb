{
 "cells": [
  {
   "cell_type": "markdown",
   "metadata": {},
   "source": [
    "# packages"
   ]
  },
  {
   "cell_type": "code",
   "execution_count": 18,
   "metadata": {},
   "outputs": [],
   "source": [
    "import tensorflow as tf\n",
    "\n",
    "import tensorflow.keras as keras\n",
    "\n",
    "from tensorflow.keras.layers import Dense\n",
    "\n",
    "from tensorflow.keras.optimizers import Adam\n",
    "\n",
    "from tensorflow.keras.losses import categorical_crossentropy\n",
    "\n",
    "import numpy as np"
   ]
  },
  {
   "cell_type": "markdown",
   "metadata": {},
   "source": [
    "# functions"
   ]
  },
  {
   "cell_type": "code",
   "execution_count": 8,
   "metadata": {},
   "outputs": [],
   "source": [
    "def create_mlp_model(input_size,size_layer1, size_layer2, num_classes):\n",
    "    \n",
    "    model = tf.keras.Sequential()\n",
    "    \n",
    "    model.add(Dense(size_layer1, input_shape=(input_size,), activation='relu'))\n",
    "    \n",
    "    model.add(Dense(size_layer2, activation='relu'))\n",
    "    \n",
    "    model.add(Dense(num_classes, activation='softmax'))\n",
    "    \n",
    "    return model\n"
   ]
  },
  {
   "cell_type": "markdown",
   "metadata": {},
   "source": [
    "# load dataset"
   ]
  },
  {
   "cell_type": "code",
   "execution_count": 5,
   "metadata": {},
   "outputs": [],
   "source": [
    "mnist = tf.keras.datasets.mnist\n",
    "\n",
    "(x_train, y_train), (x_test, y_test) = mnist.load_data()\n",
    "\n",
    "input_size = 28*28\n",
    "\n",
    "num_classes = 10\n",
    "\n",
    "x_train = x_train.reshape(x_train.shape[0], input_size)\n",
    "\n",
    "x_test = x_test.reshape(x_test.shape[0], input_size)\n",
    "\n",
    "y_train = keras.utils.to_categorical(y_train, num_classes)\n",
    "\n",
    "y_test = keras.utils.to_categorical(y_test, num_classes)"
   ]
  },
  {
   "cell_type": "markdown",
   "metadata": {},
   "source": [
    "# create and train model"
   ]
  },
  {
   "cell_type": "code",
   "execution_count": 25,
   "metadata": {},
   "outputs": [
    {
     "name": "stdout",
     "output_type": "stream",
     "text": [
      "Train on 60000 samples, validate on 10000 samples\n",
      "Epoch 1/10\n",
      "60000/60000 [==============================] - 4s 62us/sample - loss: 1.7719 - acc: 0.8994 - val_loss: 0.2817 - val_acc: 0.9370\n",
      "Epoch 2/10\n",
      "60000/60000 [==============================] - 4s 60us/sample - loss: 0.1989 - acc: 0.9505 - val_loss: 0.2336 - val_acc: 0.9432\n",
      "Epoch 3/10\n",
      "60000/60000 [==============================] - 4s 61us/sample - loss: 0.1382 - acc: 0.9613 - val_loss: 0.1693 - val_acc: 0.9584\n",
      "Epoch 4/10\n",
      "60000/60000 [==============================] - 4s 61us/sample - loss: 0.1209 - acc: 0.9669 - val_loss: 0.1833 - val_acc: 0.9552\n",
      "Epoch 5/10\n",
      "60000/60000 [==============================] - 4s 60us/sample - loss: 0.1169 - acc: 0.9680 - val_loss: 0.1662 - val_acc: 0.9619\n",
      "Epoch 6/10\n",
      "60000/60000 [==============================] - 4s 60us/sample - loss: 0.1106 - acc: 0.9692 - val_loss: 0.1347 - val_acc: 0.9626\n",
      "Epoch 7/10\n",
      "60000/60000 [==============================] - 4s 61us/sample - loss: 0.0988 - acc: 0.9728 - val_loss: 0.1472 - val_acc: 0.9623\n",
      "Epoch 8/10\n",
      "60000/60000 [==============================] - 4s 61us/sample - loss: 0.0923 - acc: 0.9754 - val_loss: 0.1586 - val_acc: 0.9625\n",
      "Epoch 9/10\n",
      "60000/60000 [==============================] - 4s 61us/sample - loss: 0.0843 - acc: 0.9772 - val_loss: 0.1714 - val_acc: 0.9624\n",
      "Epoch 10/10\n",
      "60000/60000 [==============================] - 4s 61us/sample - loss: 0.0850 - acc: 0.9765 - val_loss: 0.1450 - val_acc: 0.9664\n"
     ]
    }
   ],
   "source": [
    "size_layer1 = 512\n",
    "\n",
    "size_layer2 = 256\n",
    "\n",
    "model = create_mlp_model(input_size,size_layer1, size_layer2, num_classes)\n",
    "\n",
    "model.compile(loss=categorical_crossentropy, optimizer=Adam(learning_rate=0.001), metrics=['acc'])\n",
    "\n",
    "history=model.fit(x_train, y_train, epochs=10, batch_size=64, validation_data=(x_test, y_test))"
   ]
  },
  {
   "cell_type": "code",
   "execution_count": 23,
   "metadata": {},
   "outputs": [
    {
     "name": "stdout",
     "output_type": "stream",
     "text": [
      "test accuracy 96.27\n"
     ]
    }
   ],
   "source": [
    "y_pred = model.predict(x_test)\n",
    "\n",
    "pred_classes = np.argmax(y_pred,axis=1)\n",
    "\n",
    "true_classes =  np.argmax(y_test,axis=1)\n",
    "\n",
    "test_acc = 100*np.sum(pred_classes==true_classes)/len(true_classes)\n",
    "\n",
    "print(\"test accuracy {}\".format(test_acc))"
   ]
  },
  {
   "cell_type": "code",
   "execution_count": null,
   "metadata": {},
   "outputs": [],
   "source": []
  }
 ],
 "metadata": {
  "kernelspec": {
   "display_name": "Python 3",
   "language": "python",
   "name": "python3"
  },
  "language_info": {
   "codemirror_mode": {
    "name": "ipython",
    "version": 3
   },
   "file_extension": ".py",
   "mimetype": "text/x-python",
   "name": "python",
   "nbconvert_exporter": "python",
   "pygments_lexer": "ipython3",
   "version": "3.7.6"
  }
 },
 "nbformat": 4,
 "nbformat_minor": 2
}
