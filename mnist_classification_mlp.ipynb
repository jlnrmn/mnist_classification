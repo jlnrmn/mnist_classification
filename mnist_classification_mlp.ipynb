{
 "cells": [
  {
   "cell_type": "code",
   "execution_count": 1,
   "metadata": {},
   "outputs": [],
   "source": [
    "import tensorflow as tf\n",
    "import tensorflow.keras as keras\n",
    "from tensorflow.keras.layers import Dense\n",
    "from tensorflow.keras.optimizers import Adam\n",
    "from tensorflow.keras.losses import categorical_crossentropy\n",
    "import numpy as np"
   ]
  },
  {
   "cell_type": "markdown",
   "metadata": {},
   "source": [
    "functions"
   ]
  },
  {
   "cell_type": "code",
   "execution_count": 2,
   "metadata": {},
   "outputs": [],
   "source": [
    "def create_mlp_model(input_size, size_layer1, size_layer2, num_classes):\n",
    "    model = tf.keras.Sequential()\n",
    "    model.add(Dense(size_layer1, input_shape=(input_size,), activation='relu'))\n",
    "    model.add(Dense(size_layer2, activation='relu'))\n",
    "    model.add(Dense(num_classes, activation='softmax'))\n",
    "    return model"
   ]
  },
  {
   "cell_type": "markdown",
   "metadata": {},
   "source": [
    "load dataset"
   ]
  },
  {
   "cell_type": "code",
   "execution_count": 3,
   "metadata": {},
   "outputs": [],
   "source": [
    "mnist = tf.keras.datasets.mnist\n",
    "(x_train, y_train), (x_test, y_test) = mnist.load_data()\n",
    "input_size = 28*28\n",
    "num_classes = 10\n",
    "x_train = x_train.reshape(x_train.shape[0], input_size)\n",
    "x_test = x_test.reshape(x_test.shape[0], input_size)\n",
    "y_train = keras.utils.to_categorical(y_train, num_classes)\n",
    "y_test = keras.utils.to_categorical(y_test, num_classes)"
   ]
  },
  {
   "cell_type": "markdown",
   "metadata": {},
   "source": [
    "#create and train model"
   ]
  },
  {
   "cell_type": "code",
   "execution_count": 4,
   "metadata": {},
   "outputs": [
    {
     "name": "stdout",
     "output_type": "stream",
     "text": [
      "Train on 60000 samples, validate on 10000 samples\n",
      "Epoch 1/10\n",
      "60000/60000 [==============================] - 10s 165us/sample - loss: 1.4341 - acc: 0.9003 - val_loss: 0.2794 - val_acc: 0.9312\n",
      "Epoch 2/10\n",
      "60000/60000 [==============================] - 7s 117us/sample - loss: 0.1907 - acc: 0.9505 - val_loss: 0.2097 - val_acc: 0.9491\n",
      "Epoch 3/10\n",
      "60000/60000 [==============================] - 7s 115us/sample - loss: 0.1335 - acc: 0.9628 - val_loss: 0.2156 - val_acc: 0.9506\n",
      "Epoch 4/10\n",
      "60000/60000 [==============================] - 7s 116us/sample - loss: 0.1173 - acc: 0.9664 - val_loss: 0.1938 - val_acc: 0.9554\n",
      "Epoch 5/10\n",
      "60000/60000 [==============================] - 7s 117us/sample - loss: 0.1101 - acc: 0.9705 - val_loss: 0.1601 - val_acc: 0.9631\n",
      "Epoch 6/10\n",
      "60000/60000 [==============================] - 7s 119us/sample - loss: 0.1051 - acc: 0.9710 - val_loss: 0.1704 - val_acc: 0.9590\n",
      "Epoch 7/10\n",
      "60000/60000 [==============================] - 7s 111us/sample - loss: 0.0965 - acc: 0.9740 - val_loss: 0.1258 - val_acc: 0.9702\n",
      "Epoch 8/10\n",
      "60000/60000 [==============================] - 7s 116us/sample - loss: 0.0865 - acc: 0.9766 - val_loss: 0.1531 - val_acc: 0.9651\n",
      "Epoch 9/10\n",
      "60000/60000 [==============================] - 7s 113us/sample - loss: 0.0823 - acc: 0.9776 - val_loss: 0.1552 - val_acc: 0.9679\n",
      "Epoch 10/10\n",
      "60000/60000 [==============================] - 7s 123us/sample - loss: 0.0765 - acc: 0.9795 - val_loss: 0.1397 - val_acc: 0.9683\n"
     ]
    }
   ],
   "source": [
    "size_layer1 = 512\n",
    "size_layer2 = 256 \n",
    "model = create_mlp_model(input_size, size_layer1, size_layer2, num_classes)\n",
    "model.compile(loss=categorical_crossentropy, optimizer=Adam(learning_rate=0.001), metrics=['acc'])\n",
    "history=model.fit(x_train, y_train, epochs=10, batch_size=64, validation_data=(x_test, y_test))"
   ]
  },
  {
   "cell_type": "code",
   "execution_count": 5,
   "metadata": {},
   "outputs": [
    {
     "name": "stdout",
     "output_type": "stream",
     "text": [
      "test accuracy 96.83\n"
     ]
    }
   ],
   "source": [
    "y_pred = model.predict(x_test)\n",
    "pred_classes = np.argmax(y_pred, axis=1)\n",
    "true_classes = np.argmax(y_test, axis=1)\n",
    "test_acc = 100*np.sum(pred_classes==true_classes)/len(true_classes)\n",
    "print(\"test accuracy {}\".format(test_acc))"
   ]
  }
 ],
 "metadata": {
  "kernelspec": {
   "display_name": "Python 3",
   "language": "python",
   "name": "python3"
  },
  "language_info": {
   "codemirror_mode": {
    "name": "ipython",
    "version": 3
   },
   "file_extension": ".py",
   "mimetype": "text/x-python",
   "name": "python",
   "nbconvert_exporter": "python",
   "pygments_lexer": "ipython3",
   "version": "3.7.6"
  }
 },
 "nbformat": 4,
 "nbformat_minor": 4
}
