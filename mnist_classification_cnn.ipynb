{
 "cells": [
  {
   "cell_type": "markdown",
   "metadata": {},
   "source": [
    "# packages"
   ]
  },
  {
   "cell_type": "code",
   "execution_count": 1,
   "metadata": {},
   "outputs": [],
   "source": [
    "import tensorflow as tf\n",
    "\n",
    "from tensorflow.keras.layers import Dense, Dropout, Flatten\n",
    "\n",
    "from tensorflow.keras.layers import Conv2D, MaxPooling2D\n",
    "\n",
    "from tensorflow.keras.optimizers import Adam\n",
    "\n",
    "from tensorflow.keras.losses import categorical_crossentropy\n",
    "\n",
    "import numpy as np"
   ]
  },
  {
   "cell_type": "markdown",
   "metadata": {},
   "source": [
    "# functions"
   ]
  },
  {
   "cell_type": "code",
   "execution_count": 2,
   "metadata": {},
   "outputs": [],
   "source": [
    "def create_cnn_model(input_shape, nb_filters1, nb_filters2, size_dense1, num_classes):\n",
    "    \n",
    "    model = tf.keras.Sequential()\n",
    "    \n",
    "    model.add(Conv2D(nb_filters1, kernel_size=(3, 3), activation='relu', input_shape=input_shape))\n",
    "    \n",
    "    model.add(MaxPooling2D(pool_size=(2, 2), padding='same'))\n",
    "    \n",
    "    model.add(Conv2D(nb_filters2, kernel_size=(3, 3), activation='relu', input_shape=input_shape))\n",
    "    \n",
    "    model.add(MaxPooling2D(pool_size=(2, 2), padding='same'))\n",
    "    \n",
    "    model.add(Flatten())\n",
    "    \n",
    "    model.add(Dense(size_dense1, activation='relu'))\n",
    "    \n",
    "    model.add(Dense(num_classes, activation='softmax'))\n",
    "    \n",
    "    return model\n"
   ]
  },
  {
   "cell_type": "markdown",
   "metadata": {},
   "source": [
    "# load mnist dataset"
   ]
  },
  {
   "cell_type": "code",
   "execution_count": 3,
   "metadata": {},
   "outputs": [],
   "source": [
    "mnist = tf.keras.datasets.mnist\n",
    "\n",
    "(x_train, y_train), (x_test, y_test) = mnist.load_data()\n",
    "\n",
    "img_rows=28\n",
    "\n",
    "img_cols=28\n",
    "\n",
    "num_classes = 10\n",
    "\n",
    "x_train = x_train.reshape(x_train.shape[0], img_rows, img_cols, 1)\n",
    "\n",
    "x_test = x_test.reshape(x_test.shape[0], img_rows, img_cols, 1)\n",
    "    \n",
    "input_shape = (img_rows, img_cols, 1)\n",
    "\n",
    "y_train = tf.keras.utils.to_categorical(y_train, num_classes)\n",
    "\n",
    "y_test = tf.keras.utils.to_categorical(y_test, num_classes)"
   ]
  },
  {
   "cell_type": "markdown",
   "metadata": {},
   "source": [
    "# create and train model"
   ]
  },
  {
   "cell_type": "code",
   "execution_count": 4,
   "metadata": {},
   "outputs": [
    {
     "name": "stdout",
     "output_type": "stream",
     "text": [
      "Train on 60000 samples, validate on 10000 samples\n",
      "Epoch 1/10\n",
      "60000/60000 [==============================] - 24s 395us/sample - loss: 0.4701 - acc: 0.9401 - val_loss: 0.0792 - val_acc: 0.9757\n",
      "Epoch 2/10\n",
      "60000/60000 [==============================] - 23s 379us/sample - loss: 0.0633 - acc: 0.9808 - val_loss: 0.0660 - val_acc: 0.9800\n",
      "Epoch 3/10\n",
      "60000/60000 [==============================] - 23s 387us/sample - loss: 0.0426 - acc: 0.9872 - val_loss: 0.0593 - val_acc: 0.9838\n",
      "Epoch 4/10\n",
      "60000/60000 [==============================] - 23s 387us/sample - loss: 0.0368 - acc: 0.9886 - val_loss: 0.0537 - val_acc: 0.9851\n",
      "Epoch 5/10\n",
      "60000/60000 [==============================] - 23s 390us/sample - loss: 0.0274 - acc: 0.9915 - val_loss: 0.0458 - val_acc: 0.9861\n",
      "Epoch 6/10\n",
      "60000/60000 [==============================] - 24s 397us/sample - loss: 0.0257 - acc: 0.9919 - val_loss: 0.0728 - val_acc: 0.9819\n",
      "Epoch 7/10\n",
      "60000/60000 [==============================] - 24s 392us/sample - loss: 0.0277 - acc: 0.9914 - val_loss: 0.0584 - val_acc: 0.9851\n",
      "Epoch 8/10\n",
      "60000/60000 [==============================] - 23s 378us/sample - loss: 0.0213 - acc: 0.9936 - val_loss: 0.0592 - val_acc: 0.9857\n",
      "Epoch 9/10\n",
      "60000/60000 [==============================] - 23s 383us/sample - loss: 0.0205 - acc: 0.9939 - val_loss: 0.0559 - val_acc: 0.9860\n",
      "Epoch 10/10\n",
      "60000/60000 [==============================] - 23s 383us/sample - loss: 0.0189 - acc: 0.9948 - val_loss: 0.0751 - val_acc: 0.9831\n"
     ]
    }
   ],
   "source": [
    "nb_filters1 = 32\n",
    "\n",
    "nb_filters2 = 32\n",
    "\n",
    "size_dense1 = 256\n",
    "\n",
    "cnn_model=create_cnn_model(input_shape, nb_filters1, nb_filters2, size_dense1, num_classes)\n",
    "\n",
    "cnn_model.compile(loss=categorical_crossentropy, optimizer=Adam(learning_rate=0.001), metrics=['acc'])\n",
    "\n",
    "history=cnn_model.fit(x_train, y_train, epochs=10, batch_size=64, validation_data=(x_test, y_test))"
   ]
  },
  {
   "cell_type": "code",
   "execution_count": 5,
   "metadata": {},
   "outputs": [
    {
     "name": "stdout",
     "output_type": "stream",
     "text": [
      "test accuracy 98.31\n"
     ]
    }
   ],
   "source": [
    "y_pred = cnn_model.predict(x_test)\n",
    "\n",
    "pred_classes = np.argmax(y_pred,axis=1)\n",
    "\n",
    "true_classes =  np.argmax(y_test,axis=1)\n",
    "\n",
    "test_acc = 100*np.sum(pred_classes==true_classes)/len(true_classes)\n",
    "\n",
    "print(\"test accuracy {}\".format(test_acc))"
   ]
  },
  {
   "cell_type": "code",
   "execution_count": null,
   "metadata": {},
   "outputs": [],
   "source": []
  }
 ],
 "metadata": {
  "kernelspec": {
   "display_name": "Python 3",
   "language": "python",
   "name": "python3"
  },
  "language_info": {
   "codemirror_mode": {
    "name": "ipython",
    "version": 3
   },
   "file_extension": ".py",
   "mimetype": "text/x-python",
   "name": "python",
   "nbconvert_exporter": "python",
   "pygments_lexer": "ipython3",
   "version": "3.7.6"
  }
 },
 "nbformat": 4,
 "nbformat_minor": 2
}
